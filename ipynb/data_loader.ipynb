{
 "cells": [
  {
   "cell_type": "markdown",
   "id": "05f1f822",
   "metadata": {},
   "source": [
    "# Poetry Generation (Tensorflow, Keras, LSTM)"
   ]
  },
  {
   "cell_type": "code",
   "execution_count": 1,
   "id": "c341523c",
   "metadata": {},
   "outputs": [],
   "source": [
    "import string\n",
    "import pandas as pd\n",
    "import numpy as np\n",
    "\n",
    "from tensorflow.keras.preprocessing.text import Tokenizer\n",
    "from tensorflow.keras.preprocessing.sequence import pad_sequences\n",
    "from tensorflow.keras.utils import to_categorical"
   ]
  },
  {
   "cell_type": "code",
   "execution_count": 2,
   "id": "837c7d25",
   "metadata": {},
   "outputs": [],
   "source": [
    "filenames = ['dataset/adele.txt', 'dataset/lady-gaga.txt',\n",
    "             'dataset/kanye-west.txt', 'dataset/eminem.txt']"
   ]
  },
  {
   "cell_type": "code",
   "execution_count": 3,
   "id": "83221f0e",
   "metadata": {},
   "outputs": [],
   "source": [
    "with open('dataset/MERGED.txt', 'w', encoding='utf-8') as outfile:\n",
    "    for fname in filenames:\n",
    "        with open(fname, 'r', encoding='utf-8') as infile:\n",
    "            outfile.write(infile.read() + '\\n')"
   ]
  },
  {
   "cell_type": "code",
   "execution_count": 4,
   "id": "44d9631f",
   "metadata": {},
   "outputs": [],
   "source": [
    "with open('dataset/MERGED.txt', 'r', encoding='utf-8') as file:\n",
    "    data = file.read().splitlines()"
   ]
  },
  {
   "cell_type": "code",
   "execution_count": 5,
   "id": "9971a6fa",
   "metadata": {},
   "outputs": [],
   "source": [
    "# len(data)\n",
    "# 19212"
   ]
  },
  {
   "cell_type": "markdown",
   "id": "038c9c7a",
   "metadata": {},
   "source": [
    "## Building LSTM Model"
   ]
  },
  {
   "cell_type": "code",
   "execution_count": 6,
   "id": "782ea042",
   "metadata": {},
   "outputs": [],
   "source": [
    "token = Tokenizer()\n",
    "token.fit_on_texts(data)\n",
    "encoded_text = token.texts_to_sequences(data)\n",
    "vocab_size = len(token.word_counts) + 1"
   ]
  },
  {
   "cell_type": "markdown",
   "id": "56b986f1",
   "metadata": {},
   "source": [
    "## Prepare Training Data"
   ]
  },
  {
   "cell_type": "code",
   "execution_count": 8,
   "id": "e653bd4a",
   "metadata": {},
   "outputs": [],
   "source": [
    "datalist = []\n",
    "for d in encoded_text:\n",
    "    if len(d) > 1:\n",
    "        for i in range(2, len(d)):\n",
    "            datalist.append(d[:i])"
   ]
  },
  {
   "cell_type": "code",
   "execution_count": 16,
   "id": "4d2ee1ea",
   "metadata": {},
   "outputs": [
    {
     "data": {
      "text/plain": [
       "[153, 7, 64, 218]"
      ]
     },
     "execution_count": 16,
     "metadata": {},
     "output_type": "execute_result"
    }
   ],
   "source": [
    "datalist[4]"
   ]
  },
  {
   "cell_type": "markdown",
   "id": "6e2fb2b5",
   "metadata": {},
   "source": [
    "## Padding"
   ]
  },
  {
   "cell_type": "code",
   "execution_count": 9,
   "id": "a0db295d",
   "metadata": {},
   "outputs": [],
   "source": [
    "max_length = 50\n",
    "sequences = pad_sequences(datalist, maxlen=max_length, padding='pre')\n",
    "X = sequences[:, :-1]\n",
    "y = sequences[:, -1]\n",
    "y = to_categorical(y, num_classes=vocab_size)"
   ]
  },
  {
   "cell_type": "code",
   "execution_count": 10,
   "id": "c93a6b4a",
   "metadata": {},
   "outputs": [
    {
     "data": {
      "text/plain": [
       "49"
      ]
     },
     "execution_count": 10,
     "metadata": {},
     "output_type": "execute_result"
    }
   ],
   "source": [
    "seq_length = X.shape[1]\n",
    "seq_length"
   ]
  },
  {
   "cell_type": "code",
   "execution_count": 11,
   "id": "52b29c88",
   "metadata": {},
   "outputs": [],
   "source": [
    "__all__ = ['X', 'y', 'token', 'seq_length', 'vocab_size']"
   ]
  }
 ],
 "metadata": {
  "kernelspec": {
   "display_name": "tf-2.10",
   "language": "python",
   "name": "python3"
  },
  "language_info": {
   "codemirror_mode": {
    "name": "ipython",
    "version": 3
   },
   "file_extension": ".py",
   "mimetype": "text/x-python",
   "name": "python",
   "nbconvert_exporter": "python",
   "pygments_lexer": "ipython3",
   "version": "3.10.18"
  }
 },
 "nbformat": 4,
 "nbformat_minor": 5
}
