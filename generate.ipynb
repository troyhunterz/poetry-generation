{
 "cells": [
  {
   "cell_type": "markdown",
   "id": "34fc2bc2",
   "metadata": {},
   "source": [
    "## Poetry Generation"
   ]
  },
  {
   "cell_type": "code",
   "execution_count": 6,
   "id": "4a8946e4",
   "metadata": {},
   "outputs": [],
   "source": [
    "from data_loader import token, seq_length\n",
    "import numpy as np\n",
    "from tensorflow.keras.models import load_model\n",
    "from tensorflow.keras.preprocessing.sequence import pad_sequences"
   ]
  },
  {
   "cell_type": "code",
   "execution_count": 7,
   "id": "94312d39",
   "metadata": {},
   "outputs": [],
   "source": [
    "model = load_model('model/model_poetry_2.h5')"
   ]
  },
  {
   "cell_type": "code",
   "execution_count": 63,
   "id": "ffbcbcaf",
   "metadata": {},
   "outputs": [
    {
     "name": "stdout",
     "output_type": "stream",
     "text": [
      "play strings for the dramatic ending of that wack expect up up strings for the dramatic ending of that wack expect up up\n"
     ]
    }
   ],
   "source": [
    "poetry_length = 10\n",
    "\n",
    "def generate_poetry(seed_text, n_lines):\n",
    "    for i in range(n_lines):\n",
    "        text = []\n",
    "        for _ in range(poetry_length):\n",
    "            encoded = token.texts_to_sequences([seed_text])[0]\n",
    "            encoded = pad_sequences([encoded], maxlen=seq_length, padding='pre')\n",
    "\n",
    "            y_pred = np.argmax(model.predict(encoded, verbose=0), axis=-1)[0]\n",
    "\n",
    "            predicted_word = next((word for word, index in token.word_index.items() if index == y_pred), '')\n",
    "            \n",
    "            seed_text = seed_text + ' ' + predicted_word\n",
    "            text.append(predicted_word)\n",
    "\n",
    "        seed_text += ' ' + predicted_word\n",
    "        text.append(predicted_word)\n",
    "        print(seed_text + ' ' + ' '.join(text))\n",
    "\n",
    "generate_poetry('play', 1)"
   ]
  }
 ],
 "metadata": {
  "kernelspec": {
   "display_name": "tf-2.10",
   "language": "python",
   "name": "python3"
  },
  "language_info": {
   "codemirror_mode": {
    "name": "ipython",
    "version": 3
   },
   "file_extension": ".py",
   "mimetype": "text/x-python",
   "name": "python",
   "nbconvert_exporter": "python",
   "pygments_lexer": "ipython3",
   "version": "3.10.18"
  }
 },
 "nbformat": 4,
 "nbformat_minor": 5
}
