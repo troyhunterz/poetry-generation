{
 "cells": [
  {
   "cell_type": "markdown",
   "id": "ee2e476e",
   "metadata": {},
   "source": [
    "## LSTM Model Training"
   ]
  },
  {
   "cell_type": "code",
   "execution_count": 1,
   "id": "3768b984",
   "metadata": {},
   "outputs": [],
   "source": [
    "from data_loader import X, y, vocab_size, seq_length\n",
    "from tensorflow.keras.models import Sequential\n",
    "from tensorflow.keras.layers import Dense, LSTM, Embedding"
   ]
  },
  {
   "cell_type": "code",
   "execution_count": 2,
   "id": "1fd00251",
   "metadata": {},
   "outputs": [],
   "source": [
    "model = Sequential()\n",
    "model.add(Embedding(vocab_size, 200))\n",
    "model.add(LSTM(100, return_sequences=True))\n",
    "model.add(LSTM(100))\n",
    "model.add(Dense(100, activation='relu'))\n",
    "model.add(Dense(vocab_size, activation='softmax'))"
   ]
  },
  {
   "cell_type": "code",
   "execution_count": 3,
   "id": "9d0b08a5",
   "metadata": {},
   "outputs": [
    {
     "name": "stdout",
     "output_type": "stream",
     "text": [
      "Model: \"sequential\"\n",
      "_________________________________________________________________\n",
      " Layer (type)                Output Shape              Param #   \n",
      "=================================================================\n",
      " embedding (Embedding)       (None, None, 200)         2114200   \n",
      "                                                                 \n",
      " lstm (LSTM)                 (None, None, 100)         120400    \n",
      "                                                                 \n",
      " lstm_1 (LSTM)               (None, 100)               80400     \n",
      "                                                                 \n",
      " dense (Dense)               (None, 100)               10100     \n",
      "                                                                 \n",
      " dense_1 (Dense)             (None, 10571)             1067671   \n",
      "                                                                 \n",
      "=================================================================\n",
      "Total params: 3,392,771\n",
      "Trainable params: 3,392,771\n",
      "Non-trainable params: 0\n",
      "_________________________________________________________________\n"
     ]
    }
   ],
   "source": [
    "model.summary()"
   ]
  },
  {
   "cell_type": "code",
   "execution_count": 5,
   "id": "524207fc",
   "metadata": {},
   "outputs": [
    {
     "name": "stdout",
     "output_type": "stream",
     "text": [
      "Epoch 1/5\n",
      "995/995 [==============================] - 26s 20ms/step - loss: 6.3610 - accuracy: 0.0434\n",
      "Epoch 2/5\n",
      "995/995 [==============================] - 21s 21ms/step - loss: 5.8352 - accuracy: 0.0675\n",
      "Epoch 3/5\n",
      "995/995 [==============================] - 19s 19ms/step - loss: 5.5624 - accuracy: 0.0913\n",
      "Epoch 4/5\n",
      "995/995 [==============================] - 19s 19ms/step - loss: 5.3484 - accuracy: 0.1099\n",
      "Epoch 5/5\n",
      "995/995 [==============================] - 18s 19ms/step - loss: 5.1756 - accuracy: 0.1262\n"
     ]
    },
    {
     "data": {
      "text/plain": [
       "<keras.callbacks.History at 0x1b3bbed0700>"
      ]
     },
     "execution_count": 5,
     "metadata": {},
     "output_type": "execute_result"
    }
   ],
   "source": [
    "model.compile(loss='categorical_crossentropy', optimizer='adam', metrics=['accuracy'])\n",
    "model.fit(X, y, batch_size=128, epochs=5)"
   ]
  },
  {
   "cell_type": "code",
   "execution_count": 6,
   "id": "8c7f8c70",
   "metadata": {},
   "outputs": [],
   "source": [
    "model.save('model/trained_example.h5')"
   ]
  }
 ],
 "metadata": {
  "kernelspec": {
   "display_name": "tf-2.10",
   "language": "python",
   "name": "python3"
  },
  "language_info": {
   "codemirror_mode": {
    "name": "ipython",
    "version": 3
   },
   "file_extension": ".py",
   "mimetype": "text/x-python",
   "name": "python",
   "nbconvert_exporter": "python",
   "pygments_lexer": "ipython3",
   "version": "3.10.18"
  }
 },
 "nbformat": 4,
 "nbformat_minor": 5
}
