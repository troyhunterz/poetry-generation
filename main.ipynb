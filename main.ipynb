{
 "cells": [
  {
   "cell_type": "markdown",
   "id": "05f1f822",
   "metadata": {},
   "source": [
    "# Poetry Generation (Tensorflow, Keras, LSTM)"
   ]
  },
  {
   "cell_type": "code",
   "execution_count": 1,
   "id": "c341523c",
   "metadata": {},
   "outputs": [],
   "source": [
    "import string\n",
    "import requests\n",
    "import pandas as pd\n",
    "import numpy as np\n",
    "\n",
    "from tensorflow.keras.preprocessing.text import Tokenizer\n",
    "from tensorflow.keras.preprocessing.sequence import pad_sequences\n",
    "from tensorflow.keras.utils import to_categorical\n",
    "from tensorflow.keras.models import Sequential\n",
    "from tensorflow.keras.layers import Dense, LSTM, Embedding\n",
    "from tensorflow.keras.callbacks import EarlyStopping"
   ]
  },
  {
   "cell_type": "code",
   "execution_count": 2,
   "id": "837c7d25",
   "metadata": {},
   "outputs": [],
   "source": [
    "filenames = ['dataset/adele.txt', 'dataset/lady-gaga.txt',\n",
    "             'dataset/kanye-west.txt', 'dataset/eminem.txt']"
   ]
  },
  {
   "cell_type": "code",
   "execution_count": 3,
   "id": "83221f0e",
   "metadata": {},
   "outputs": [],
   "source": [
    "with open('dataset/MERGED.txt', 'w', encoding='utf-8') as outfile:\n",
    "    for fname in filenames:\n",
    "        with open(fname, 'r', encoding='utf-8') as infile:\n",
    "            outfile.write(infile.read() + '\\n')"
   ]
  },
  {
   "cell_type": "code",
   "execution_count": 4,
   "id": "44d9631f",
   "metadata": {},
   "outputs": [],
   "source": [
    "with open('dataset/MERGED.txt', 'r', encoding='utf-8') as file:\n",
    "    data = file.read().splitlines()"
   ]
  },
  {
   "cell_type": "code",
   "execution_count": 5,
   "id": "9971a6fa",
   "metadata": {},
   "outputs": [
    {
     "data": {
      "text/plain": [
       "19212"
      ]
     },
     "execution_count": 5,
     "metadata": {},
     "output_type": "execute_result"
    }
   ],
   "source": [
    "len(data)"
   ]
  },
  {
   "cell_type": "code",
   "execution_count": null,
   "id": "15d70564",
   "metadata": {},
   "outputs": [],
   "source": [
    "' '.join(data)"
   ]
  },
  {
   "cell_type": "markdown",
   "id": "038c9c7a",
   "metadata": {},
   "source": [
    "## Building LSTM Model"
   ]
  },
  {
   "cell_type": "code",
   "execution_count": 7,
   "id": "782ea042",
   "metadata": {},
   "outputs": [],
   "source": [
    "token = Tokenizer()\n",
    "token.fit_on_texts(data)\n",
    "# token.word_counts, token.word_index"
   ]
  },
  {
   "cell_type": "code",
   "execution_count": 8,
   "id": "3a8bfe45",
   "metadata": {},
   "outputs": [
    {
     "data": {
      "text/plain": [
       "[[276, 26, 106, 3698], [153, 7, 64, 218, 2, 140], [28, 11, 993, 1730]]"
      ]
     },
     "execution_count": 8,
     "metadata": {},
     "output_type": "execute_result"
    }
   ],
   "source": [
    "encoded_text = token.texts_to_sequences(data)\n",
    "encoded_text[:3]"
   ]
  },
  {
   "cell_type": "code",
   "execution_count": 9,
   "id": "fe09406f",
   "metadata": {},
   "outputs": [
    {
     "data": {
      "text/plain": [
       "[[4467, 1965]]"
      ]
     },
     "execution_count": 9,
     "metadata": {},
     "output_type": "execute_result"
    }
   ],
   "source": [
    "x = ['Token Text']\n",
    "token.texts_to_sequences(x)"
   ]
  },
  {
   "cell_type": "code",
   "execution_count": 10,
   "id": "31dc557e",
   "metadata": {},
   "outputs": [],
   "source": [
    "vocab_size = len(token.word_counts) + 1"
   ]
  },
  {
   "cell_type": "markdown",
   "id": "56b986f1",
   "metadata": {},
   "source": [
    "## Prepare Training Data"
   ]
  },
  {
   "cell_type": "code",
   "execution_count": 11,
   "id": "e653bd4a",
   "metadata": {},
   "outputs": [],
   "source": [
    "datalist = []\n",
    "for d in encoded_text:\n",
    "    if len(d) > 1:\n",
    "        for i in range(2, len(d)):\n",
    "            datalist.append(d[:i])"
   ]
  },
  {
   "cell_type": "code",
   "execution_count": 12,
   "id": "4d2ee1ea",
   "metadata": {},
   "outputs": [
    {
     "data": {
      "text/plain": [
       "[153, 7, 64, 218]"
      ]
     },
     "execution_count": 12,
     "metadata": {},
     "output_type": "execute_result"
    }
   ],
   "source": [
    "datalist[4]"
   ]
  },
  {
   "cell_type": "markdown",
   "id": "6e2fb2b5",
   "metadata": {},
   "source": [
    "## Padding"
   ]
  },
  {
   "cell_type": "code",
   "execution_count": 13,
   "id": "a0db295d",
   "metadata": {},
   "outputs": [
    {
     "data": {
      "text/plain": [
       "array([[  0,   0,   0,   0,   0,   0,   0,   0,   0,   0,   0,   0,   0,\n",
       "          0,   0,   0,   0,   0,   0,   0,   0,   0,   0,   0,   0,   0,\n",
       "          0,   0,   0,   0,   0,   0,   0,   0,   0,   0,   0,   0,   0,\n",
       "          0,   0,   0,   0,   0,   0,   0,   0,   0, 276,  26],\n",
       "       [  0,   0,   0,   0,   0,   0,   0,   0,   0,   0,   0,   0,   0,\n",
       "          0,   0,   0,   0,   0,   0,   0,   0,   0,   0,   0,   0,   0,\n",
       "          0,   0,   0,   0,   0,   0,   0,   0,   0,   0,   0,   0,   0,\n",
       "          0,   0,   0,   0,   0,   0,   0,   0, 276,  26, 106],\n",
       "       [  0,   0,   0,   0,   0,   0,   0,   0,   0,   0,   0,   0,   0,\n",
       "          0,   0,   0,   0,   0,   0,   0,   0,   0,   0,   0,   0,   0,\n",
       "          0,   0,   0,   0,   0,   0,   0,   0,   0,   0,   0,   0,   0,\n",
       "          0,   0,   0,   0,   0,   0,   0,   0,   0, 153,   7],\n",
       "       [  0,   0,   0,   0,   0,   0,   0,   0,   0,   0,   0,   0,   0,\n",
       "          0,   0,   0,   0,   0,   0,   0,   0,   0,   0,   0,   0,   0,\n",
       "          0,   0,   0,   0,   0,   0,   0,   0,   0,   0,   0,   0,   0,\n",
       "          0,   0,   0,   0,   0,   0,   0,   0, 153,   7,  64]])"
      ]
     },
     "execution_count": 13,
     "metadata": {},
     "output_type": "execute_result"
    }
   ],
   "source": [
    "max_length = 50\n",
    "sequences = pad_sequences(datalist, maxlen=max_length, padding='pre')\n",
    "sequences[:4]"
   ]
  },
  {
   "cell_type": "code",
   "execution_count": 14,
   "id": "cd894f6a",
   "metadata": {},
   "outputs": [
    {
     "data": {
      "text/plain": [
       "(127241, 50)"
      ]
     },
     "execution_count": 14,
     "metadata": {},
     "output_type": "execute_result"
    }
   ],
   "source": [
    "sequences.shape"
   ]
  },
  {
   "cell_type": "code",
   "execution_count": 15,
   "id": "0a40f44c",
   "metadata": {},
   "outputs": [
    {
     "data": {
      "text/plain": [
       "array([[  0,   0,   0,   0,   0,   0,   0,   0,   0,   0,   0,   0,   0,\n",
       "          0,   0,   0,   0,   0,   0,   0,   0,   0,   0,   0,   0,   0,\n",
       "          0,   0,   0,   0,   0,   0,   0,   0,   0,   0,   0,   0,   0,\n",
       "          0,   0,   0,   0,   0,   0,   0,   0,   0, 276],\n",
       "       [  0,   0,   0,   0,   0,   0,   0,   0,   0,   0,   0,   0,   0,\n",
       "          0,   0,   0,   0,   0,   0,   0,   0,   0,   0,   0,   0,   0,\n",
       "          0,   0,   0,   0,   0,   0,   0,   0,   0,   0,   0,   0,   0,\n",
       "          0,   0,   0,   0,   0,   0,   0,   0, 276,  26],\n",
       "       [  0,   0,   0,   0,   0,   0,   0,   0,   0,   0,   0,   0,   0,\n",
       "          0,   0,   0,   0,   0,   0,   0,   0,   0,   0,   0,   0,   0,\n",
       "          0,   0,   0,   0,   0,   0,   0,   0,   0,   0,   0,   0,   0,\n",
       "          0,   0,   0,   0,   0,   0,   0,   0,   0, 153],\n",
       "       [  0,   0,   0,   0,   0,   0,   0,   0,   0,   0,   0,   0,   0,\n",
       "          0,   0,   0,   0,   0,   0,   0,   0,   0,   0,   0,   0,   0,\n",
       "          0,   0,   0,   0,   0,   0,   0,   0,   0,   0,   0,   0,   0,\n",
       "          0,   0,   0,   0,   0,   0,   0,   0, 153,   7]])"
      ]
     },
     "execution_count": 15,
     "metadata": {},
     "output_type": "execute_result"
    }
   ],
   "source": [
    "X = sequences[:, :-1]\n",
    "X[:4]"
   ]
  },
  {
   "cell_type": "code",
   "execution_count": 16,
   "id": "34880c47",
   "metadata": {},
   "outputs": [
    {
     "data": {
      "text/plain": [
       "10571"
      ]
     },
     "execution_count": 16,
     "metadata": {},
     "output_type": "execute_result"
    }
   ],
   "source": [
    "y = sequences[:, -1]\n",
    "vocab_size"
   ]
  },
  {
   "cell_type": "code",
   "execution_count": 17,
   "id": "c296bb53",
   "metadata": {},
   "outputs": [
    {
     "data": {
      "text/plain": [
       "((127241, 10571),\n",
       " array([[0., 0., 0., ..., 0., 0., 0.],\n",
       "        [0., 0., 0., ..., 0., 0., 0.],\n",
       "        [0., 0., 0., ..., 0., 0., 0.],\n",
       "        ...,\n",
       "        [0., 0., 0., ..., 0., 0., 0.],\n",
       "        [0., 1., 0., ..., 0., 0., 0.],\n",
       "        [0., 0., 0., ..., 0., 0., 0.]], dtype=float32))"
      ]
     },
     "execution_count": 17,
     "metadata": {},
     "output_type": "execute_result"
    }
   ],
   "source": [
    "y = to_categorical(y, num_classes=vocab_size)\n",
    "y.shape, y"
   ]
  },
  {
   "cell_type": "code",
   "execution_count": 18,
   "id": "c93a6b4a",
   "metadata": {},
   "outputs": [
    {
     "data": {
      "text/plain": [
       "49"
      ]
     },
     "execution_count": 18,
     "metadata": {},
     "output_type": "execute_result"
    }
   ],
   "source": [
    "seq_length = X.shape[1]\n",
    "seq_length"
   ]
  },
  {
   "cell_type": "markdown",
   "id": "65b11b88",
   "metadata": {},
   "source": [
    "## LSTM Model Training"
   ]
  },
  {
   "cell_type": "code",
   "execution_count": 19,
   "id": "b5390a16",
   "metadata": {},
   "outputs": [],
   "source": [
    "model = Sequential()\n",
    "model.add(Embedding(vocab_size, 50))\n",
    "model.add(LSTM(100, return_sequences=True))\n",
    "model.add(LSTM(100))\n",
    "model.add(Dense(100, activation='relu'))\n",
    "model.add(Dense(vocab_size, activation='softmax'))\n",
    "model.build(input_shape=(None, seq_length))"
   ]
  },
  {
   "cell_type": "code",
   "execution_count": 20,
   "id": "6a95a3c1",
   "metadata": {},
   "outputs": [
    {
     "name": "stdout",
     "output_type": "stream",
     "text": [
      "Model: \"sequential\"\n",
      "_________________________________________________________________\n",
      " Layer (type)                Output Shape              Param #   \n",
      "=================================================================\n",
      " embedding (Embedding)       (None, None, 50)          528550    \n",
      "                                                                 \n",
      " lstm (LSTM)                 (None, None, 100)         60400     \n",
      "                                                                 \n",
      " lstm_1 (LSTM)               (None, 100)               80400     \n",
      "                                                                 \n",
      " dense (Dense)               (None, 100)               10100     \n",
      "                                                                 \n",
      " dense_1 (Dense)             (None, 10571)             1067671   \n",
      "                                                                 \n",
      "=================================================================\n",
      "Total params: 1,747,121\n",
      "Trainable params: 1,747,121\n",
      "Non-trainable params: 0\n",
      "_________________________________________________________________\n"
     ]
    }
   ],
   "source": [
    "model.summary()"
   ]
  },
  {
   "cell_type": "code",
   "execution_count": 21,
   "id": "7fbfd18d",
   "metadata": {},
   "outputs": [
    {
     "name": "stdout",
     "output_type": "stream",
     "text": [
      "Epoch 1/100\n",
      "3977/3977 [==============================] - 58s 13ms/step - loss: 6.2630 - accuracy: 0.0478\n",
      "Epoch 2/100\n",
      "3977/3977 [==============================] - 52s 13ms/step - loss: 5.7889 - accuracy: 0.0679\n",
      "Epoch 3/100\n",
      "3977/3977 [==============================] - 51s 13ms/step - loss: 5.5532 - accuracy: 0.0892\n",
      "Epoch 4/100\n",
      "3977/3977 [==============================] - 50s 13ms/step - loss: 5.3284 - accuracy: 0.1092\n",
      "Epoch 5/100\n",
      "3977/3977 [==============================] - 50s 13ms/step - loss: 5.1363 - accuracy: 0.1225\n",
      "Epoch 6/100\n",
      "3977/3977 [==============================] - 50s 13ms/step - loss: 4.9773 - accuracy: 0.1337\n",
      "Epoch 7/100\n",
      "3977/3977 [==============================] - 50s 13ms/step - loss: 4.8417 - accuracy: 0.1453\n",
      "Epoch 8/100\n",
      "3977/3977 [==============================] - 50s 13ms/step - loss: 4.7209 - accuracy: 0.1553\n",
      "Epoch 9/100\n",
      "3977/3977 [==============================] - 52s 13ms/step - loss: 4.6138 - accuracy: 0.1645\n",
      "Epoch 10/100\n",
      "3977/3977 [==============================] - 52s 13ms/step - loss: 4.5175 - accuracy: 0.1732\n",
      "Epoch 11/100\n",
      "3977/3977 [==============================] - 52s 13ms/step - loss: 4.4332 - accuracy: 0.1808\n",
      "Epoch 12/100\n",
      "3977/3977 [==============================] - 49s 12ms/step - loss: 4.3518 - accuracy: 0.1879\n",
      "Epoch 13/100\n",
      "3977/3977 [==============================] - 50s 13ms/step - loss: 4.2774 - accuracy: 0.1961\n",
      "Epoch 14/100\n",
      "3977/3977 [==============================] - 50s 13ms/step - loss: 4.2050 - accuracy: 0.2036\n",
      "Epoch 15/100\n",
      "3977/3977 [==============================] - 51s 13ms/step - loss: 4.1354 - accuracy: 0.2102\n",
      "Epoch 16/100\n",
      "3977/3977 [==============================] - 50s 13ms/step - loss: 4.0648 - accuracy: 0.2177\n",
      "Epoch 17/100\n",
      "3977/3977 [==============================] - 50s 13ms/step - loss: 4.0011 - accuracy: 0.2242\n",
      "Epoch 18/100\n",
      "3977/3977 [==============================] - 51s 13ms/step - loss: 3.9380 - accuracy: 0.2307\n",
      "Epoch 19/100\n",
      "3977/3977 [==============================] - 51s 13ms/step - loss: 3.8780 - accuracy: 0.2381\n",
      "Epoch 20/100\n",
      "3977/3977 [==============================] - 49s 12ms/step - loss: 3.8234 - accuracy: 0.2439\n",
      "Epoch 21/100\n",
      "3977/3977 [==============================] - 50s 13ms/step - loss: 3.7662 - accuracy: 0.2513\n",
      "Epoch 22/100\n",
      "3977/3977 [==============================] - 50s 13ms/step - loss: 3.7130 - accuracy: 0.2578\n",
      "Epoch 23/100\n",
      "3977/3977 [==============================] - 50s 13ms/step - loss: 3.6662 - accuracy: 0.2639\n",
      "Epoch 24/100\n",
      "3977/3977 [==============================] - 51s 13ms/step - loss: 3.6180 - accuracy: 0.2707\n",
      "Epoch 25/100\n",
      "3977/3977 [==============================] - 50s 13ms/step - loss: 3.5684 - accuracy: 0.2766\n",
      "Epoch 26/100\n",
      "3977/3977 [==============================] - 50s 13ms/step - loss: 3.5222 - accuracy: 0.2838\n",
      "Epoch 27/100\n",
      "3977/3977 [==============================] - 50s 13ms/step - loss: 3.4723 - accuracy: 0.2916\n",
      "Epoch 28/100\n",
      "3977/3977 [==============================] - 49s 12ms/step - loss: 3.4253 - accuracy: 0.2976\n",
      "Epoch 29/100\n",
      "3977/3977 [==============================] - 50s 13ms/step - loss: 3.3744 - accuracy: 0.3053\n",
      "Epoch 30/100\n",
      "3977/3977 [==============================] - 51s 13ms/step - loss: 3.3257 - accuracy: 0.3133\n",
      "Epoch 31/100\n",
      "3977/3977 [==============================] - 50s 13ms/step - loss: 3.2755 - accuracy: 0.3206\n",
      "Epoch 32/100\n",
      "3977/3977 [==============================] - 50s 12ms/step - loss: 3.2311 - accuracy: 0.3274\n",
      "Epoch 33/100\n",
      "3977/3977 [==============================] - 49s 12ms/step - loss: 3.1888 - accuracy: 0.3341\n",
      "Epoch 34/100\n",
      "3977/3977 [==============================] - 50s 13ms/step - loss: 3.1457 - accuracy: 0.3402\n",
      "Epoch 35/100\n",
      "3977/3977 [==============================] - 50s 13ms/step - loss: 3.1046 - accuracy: 0.3465\n",
      "Epoch 36/100\n",
      "3977/3977 [==============================] - 50s 13ms/step - loss: 3.0660 - accuracy: 0.3547\n",
      "Epoch 37/100\n",
      "3977/3977 [==============================] - 50s 13ms/step - loss: 3.0327 - accuracy: 0.3593\n",
      "Epoch 38/100\n",
      "3977/3977 [==============================] - 49s 12ms/step - loss: 2.9959 - accuracy: 0.3653\n",
      "Epoch 39/100\n",
      "3977/3977 [==============================] - 50s 12ms/step - loss: 2.9645 - accuracy: 0.3711\n",
      "Epoch 40/100\n",
      "3977/3977 [==============================] - 50s 12ms/step - loss: 2.9329 - accuracy: 0.3762\n",
      "Epoch 41/100\n",
      "3977/3977 [==============================] - 49s 12ms/step - loss: 2.8988 - accuracy: 0.3818\n",
      "Epoch 42/100\n",
      "3977/3977 [==============================] - 47s 12ms/step - loss: 2.8737 - accuracy: 0.3864\n",
      "Epoch 43/100\n",
      "3977/3977 [==============================] - 48s 12ms/step - loss: 2.8463 - accuracy: 0.3918\n",
      "Epoch 44/100\n",
      "3977/3977 [==============================] - 49s 12ms/step - loss: 2.8219 - accuracy: 0.3957\n",
      "Epoch 45/100\n",
      "3977/3977 [==============================] - 49s 12ms/step - loss: 2.7929 - accuracy: 0.4025\n",
      "Epoch 46/100\n",
      "3977/3977 [==============================] - 47s 12ms/step - loss: 2.7924 - accuracy: 0.4005\n",
      "Epoch 47/100\n",
      "3977/3977 [==============================] - 47s 12ms/step - loss: 2.7718 - accuracy: 0.4028\n",
      "Epoch 48/100\n",
      "3977/3977 [==============================] - 47s 12ms/step - loss: 2.7411 - accuracy: 0.4095\n",
      "Epoch 49/100\n",
      "3977/3977 [==============================] - 48s 12ms/step - loss: 2.7175 - accuracy: 0.4139\n",
      "Epoch 50/100\n",
      "3977/3977 [==============================] - 48s 12ms/step - loss: 2.6916 - accuracy: 0.4177\n",
      "Epoch 51/100\n",
      "3977/3977 [==============================] - 48s 12ms/step - loss: 2.6725 - accuracy: 0.4210\n",
      "Epoch 52/100\n",
      "3977/3977 [==============================] - 48s 12ms/step - loss: 2.6510 - accuracy: 0.4253\n",
      "Epoch 53/100\n",
      "3977/3977 [==============================] - 48s 12ms/step - loss: 2.6264 - accuracy: 0.4298\n",
      "Epoch 54/100\n",
      "3977/3977 [==============================] - 48s 12ms/step - loss: 2.6083 - accuracy: 0.4327\n",
      "Epoch 55/100\n",
      "3977/3977 [==============================] - 49s 12ms/step - loss: 2.5875 - accuracy: 0.4360\n",
      "Epoch 56/100\n",
      "3977/3977 [==============================] - 49s 12ms/step - loss: 2.5641 - accuracy: 0.4404\n",
      "Epoch 57/100\n",
      "3977/3977 [==============================] - 49s 12ms/step - loss: 2.5487 - accuracy: 0.4430\n",
      "Epoch 58/100\n",
      "3977/3977 [==============================] - 48s 12ms/step - loss: 2.5299 - accuracy: 0.4466\n",
      "Epoch 59/100\n",
      "3977/3977 [==============================] - 48s 12ms/step - loss: 2.5119 - accuracy: 0.4494\n",
      "Epoch 60/100\n",
      "3977/3977 [==============================] - 49s 12ms/step - loss: 2.4917 - accuracy: 0.4527\n",
      "Epoch 61/100\n",
      "3977/3977 [==============================] - 49s 12ms/step - loss: 2.4750 - accuracy: 0.4557\n",
      "Epoch 62/100\n",
      "3977/3977 [==============================] - 48s 12ms/step - loss: 2.4573 - accuracy: 0.4594\n",
      "Epoch 63/100\n",
      "3977/3977 [==============================] - 48s 12ms/step - loss: 2.4390 - accuracy: 0.4629\n",
      "Epoch 64/100\n",
      "3977/3977 [==============================] - 50s 12ms/step - loss: 2.4211 - accuracy: 0.4660\n",
      "Epoch 65/100\n",
      "3977/3977 [==============================] - 49s 12ms/step - loss: 2.4101 - accuracy: 0.4686\n",
      "Epoch 66/100\n",
      "3977/3977 [==============================] - 49s 12ms/step - loss: 2.3963 - accuracy: 0.4708\n",
      "Epoch 67/100\n",
      "3977/3977 [==============================] - 49s 12ms/step - loss: 2.3840 - accuracy: 0.4734\n",
      "Epoch 68/100\n",
      "3977/3977 [==============================] - 49s 12ms/step - loss: 2.3646 - accuracy: 0.4768\n",
      "Epoch 69/100\n",
      "3977/3977 [==============================] - 49s 12ms/step - loss: 2.3537 - accuracy: 0.4784\n",
      "Epoch 70/100\n",
      "3977/3977 [==============================] - 49s 12ms/step - loss: 2.3425 - accuracy: 0.4800\n",
      "Epoch 71/100\n",
      "3977/3977 [==============================] - 48s 12ms/step - loss: 2.3257 - accuracy: 0.4837\n",
      "Epoch 72/100\n",
      "3977/3977 [==============================] - 49s 12ms/step - loss: 2.3128 - accuracy: 0.4860\n",
      "Epoch 73/100\n",
      "3977/3977 [==============================] - 49s 12ms/step - loss: 2.2983 - accuracy: 0.4890\n",
      "Epoch 74/100\n",
      "3977/3977 [==============================] - 50s 13ms/step - loss: 2.2875 - accuracy: 0.4909\n",
      "Epoch 75/100\n",
      "3977/3977 [==============================] - 50s 13ms/step - loss: 2.2781 - accuracy: 0.4935\n",
      "Epoch 76/100\n",
      "3977/3977 [==============================] - 49s 12ms/step - loss: 2.2654 - accuracy: 0.4942\n",
      "Epoch 77/100\n",
      "3977/3977 [==============================] - 48s 12ms/step - loss: 2.2517 - accuracy: 0.4974\n",
      "Epoch 78/100\n",
      "3977/3977 [==============================] - 48s 12ms/step - loss: 2.2423 - accuracy: 0.4988\n",
      "Epoch 79/100\n",
      "3977/3977 [==============================] - 48s 12ms/step - loss: 2.2333 - accuracy: 0.5009\n",
      "Epoch 80/100\n",
      "3977/3977 [==============================] - 48s 12ms/step - loss: 2.2201 - accuracy: 0.5034\n",
      "Epoch 81/100\n",
      "3977/3977 [==============================] - 48s 12ms/step - loss: 2.2095 - accuracy: 0.5058\n",
      "Epoch 82/100\n",
      "3977/3977 [==============================] - 48s 12ms/step - loss: 2.2011 - accuracy: 0.5065\n",
      "Epoch 83/100\n",
      "3977/3977 [==============================] - 48s 12ms/step - loss: 2.1901 - accuracy: 0.5094\n",
      "Epoch 84/100\n",
      "3977/3977 [==============================] - 49s 12ms/step - loss: 2.1829 - accuracy: 0.5091\n",
      "Epoch 85/100\n",
      "3977/3977 [==============================] - 48s 12ms/step - loss: 2.1694 - accuracy: 0.5126\n",
      "Epoch 86/100\n",
      "3977/3977 [==============================] - 48s 12ms/step - loss: 2.1627 - accuracy: 0.5134\n",
      "Epoch 87/100\n",
      "3977/3977 [==============================] - 48s 12ms/step - loss: 2.1525 - accuracy: 0.5157\n",
      "Epoch 88/100\n",
      "3977/3977 [==============================] - 48s 12ms/step - loss: 2.1392 - accuracy: 0.5171\n",
      "Epoch 89/100\n",
      "3977/3977 [==============================] - 48s 12ms/step - loss: 2.1348 - accuracy: 0.5185\n",
      "Epoch 90/100\n",
      "3977/3977 [==============================] - 52s 13ms/step - loss: 2.1261 - accuracy: 0.5204\n",
      "Epoch 91/100\n",
      "3977/3977 [==============================] - 51s 13ms/step - loss: 2.1428 - accuracy: 0.5167\n",
      "Epoch 92/100\n",
      "3977/3977 [==============================] - 49s 12ms/step - loss: 2.1104 - accuracy: 0.5233\n",
      "Epoch 93/100\n",
      "3977/3977 [==============================] - 50s 13ms/step - loss: 2.1027 - accuracy: 0.5261\n",
      "Epoch 94/100\n",
      "3977/3977 [==============================] - 58s 15ms/step - loss: 2.0936 - accuracy: 0.5251\n",
      "Epoch 95/100\n",
      "3977/3977 [==============================] - 50s 13ms/step - loss: 2.0815 - accuracy: 0.5289\n",
      "Epoch 96/100\n",
      "3977/3977 [==============================] - 50s 13ms/step - loss: 2.0765 - accuracy: 0.5290\n",
      "Epoch 97/100\n",
      "3977/3977 [==============================] - 50s 13ms/step - loss: 2.0668 - accuracy: 0.5316\n",
      "Epoch 98/100\n",
      "3977/3977 [==============================] - 50s 13ms/step - loss: 2.0665 - accuracy: 0.5325\n",
      "Epoch 99/100\n",
      "3977/3977 [==============================] - 55s 14ms/step - loss: 2.0568 - accuracy: 0.5339\n",
      "Epoch 100/100\n",
      "3977/3977 [==============================] - 61s 15ms/step - loss: 2.0490 - accuracy: 0.5348\n"
     ]
    },
    {
     "data": {
      "text/plain": [
       "<keras.callbacks.History at 0x126a4c160b0>"
      ]
     },
     "execution_count": 21,
     "metadata": {},
     "output_type": "execute_result"
    }
   ],
   "source": [
    "model.compile(loss='categorical_crossentropy', optimizer='adam', metrics=['accuracy'])\n",
    "model.fit(X, y, batch_size=32, epochs=100)"
   ]
  },
  {
   "cell_type": "markdown",
   "id": "b6998af1",
   "metadata": {},
   "source": [
    "## Poetry Generation"
   ]
  },
  {
   "cell_type": "code",
   "execution_count": null,
   "id": "d199cf61",
   "metadata": {},
   "outputs": [],
   "source": [
    "poetry_length = 10\n",
    "\n",
    "def generate_poetry(seed_text, n_lines):\n",
    "    for i in range(n_lines):\n",
    "        text = []\n",
    "        for _ in range(poetry_length):\n",
    "            encoded = token.texts_to_sequences([seed_text])[0]\n",
    "            encoded = pad_sequences([encoded], maxlen=seq_length, padding='pre')\n",
    "\n",
    "            y_pred = np.argmax(model.predict(encoded, verbose=0), axis=-1)\n",
    "\n",
    "            predicted_word = ''\n",
    "            for word, index in token.word_index.items():\n",
    "                if index == y_pred:\n",
    "                    predicted_word = word\n",
    "                    break\n",
    "            \n",
    "            seed_text = seed_text + ' ' + predicted_word\n",
    "            text.append(predicted_word)\n",
    "\n",
    "        seed_text = text[-1]\n",
    "        text = ' '.join(text)\n",
    "        print(text)"
   ]
  },
  {
   "cell_type": "code",
   "execution_count": 2,
   "id": "8fddbd43",
   "metadata": {},
   "outputs": [],
   "source": [
    "# generate_poetry('sex', 2)"
   ]
  },
  {
   "cell_type": "markdown",
   "id": "4fbf0e22",
   "metadata": {},
   "source": [
    "## Model Save & Load"
   ]
  },
  {
   "cell_type": "code",
   "execution_count": 30,
   "id": "79a2199b",
   "metadata": {},
   "outputs": [],
   "source": [
    "from tensorflow.keras.models import load_model"
   ]
  },
  {
   "cell_type": "code",
   "execution_count": 32,
   "id": "c325a876",
   "metadata": {},
   "outputs": [],
   "source": [
    "model.save('model\\model_poetry_1.h5')"
   ]
  },
  {
   "cell_type": "code",
   "execution_count": null,
   "id": "4450bfb2",
   "metadata": {},
   "outputs": [],
   "source": [
    "# model = load_model('model\\model_poetry.h5')\n",
    "# model.compile(loss='categorical_crossentropy', optimizer='adam', metrics=['accuracy'])\n",
    "# model.fit(X, y, batch_size=16, epochs=20)"
   ]
  }
 ],
 "metadata": {
  "kernelspec": {
   "display_name": "tf-2.10",
   "language": "python",
   "name": "python3"
  },
  "language_info": {
   "codemirror_mode": {
    "name": "ipython",
    "version": 3
   },
   "file_extension": ".py",
   "mimetype": "text/x-python",
   "name": "python",
   "nbconvert_exporter": "python",
   "pygments_lexer": "ipython3",
   "version": "3.10.18"
  }
 },
 "nbformat": 4,
 "nbformat_minor": 5
}
